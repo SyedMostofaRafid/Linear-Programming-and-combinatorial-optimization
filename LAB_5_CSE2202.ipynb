{
  "nbformat": 4,
  "nbformat_minor": 0,
  "metadata": {
    "colab": {
      "provenance": []
    },
    "kernelspec": {
      "name": "python3",
      "display_name": "Python 3"
    },
    "language_info": {
      "name": "python"
    }
  },
  "cells": [
    {
      "cell_type": "markdown",
      "source": [
        "# **1. Brute Force Approach**"
      ],
      "metadata": {
        "id": "s-sha8FNsHT-"
      }
    },
    {
      "cell_type": "code",
      "source": [
        "import time\n",
        "\n",
        "def fib(n):\n",
        "    if n <= 1:\n",
        "        return n\n",
        "    else:\n",
        "        return fib(n - 2) + fib(n - 1)\n",
        "\n",
        "# Get the number from the user\n",
        "n = int(input(\"Enter the position of the Fibonacci number you want: \"))\n",
        "#n=35\n",
        "# Measure the time taken to compute the Fibonacci number\n",
        "start_time = time.time()\n",
        "result = fib(n)\n",
        "end_time = time.time()\n",
        "\n",
        "# Calculate the elapsed time\n",
        "elapsed_time = end_time - start_time\n",
        "\n",
        "# Print the Fibonacci number and the elapsed time\n",
        "print(f\"The {n}th Fibonacci number is: {result}\")\n",
        "print(f\"Time taken to compute: {elapsed_time} seconds\")"
      ],
      "metadata": {
        "colab": {
          "base_uri": "https://localhost:8080/"
        },
        "id": "alOLR1NPlaPa",
        "outputId": "7afc2092-4f94-4de4-cedf-508f24d83398"
      },
      "execution_count": 4,
      "outputs": [
        {
          "output_type": "stream",
          "name": "stdout",
          "text": [
            "Enter the position of the Fibonacci number you want: 3\n",
            "The 3th Fibonacci number is: 2\n",
            "Time taken to compute: 0.00011849403381347656 seconds\n"
          ]
        }
      ]
    },
    {
      "cell_type": "markdown",
      "source": [
        "# **2. Memoization**"
      ],
      "metadata": {
        "id": "wlpfx5xkr_pk"
      }
    },
    {
      "cell_type": "code",
      "source": [
        "import numpy as np\n",
        "import time\n",
        "\n",
        "# Recursive function with memoization\n",
        "def fib(n, memo):\n",
        "    if memo[n] != -1:\n",
        "        return memo[n]\n",
        "    if n <= 1:\n",
        "        memo[n] = n\n",
        "    else:\n",
        "        memo[n] = fib(n - 1, memo) + fib(n - 2, memo)\n",
        "    return memo[n]\n",
        "\n",
        "# Get the number from the user\n",
        "n = int(input(\"Enter the position of the Fibonacci number you want: \"))\n",
        "#n = 30\n",
        "\n",
        "# Initialize the memoization table with -1\n",
        "memo = np.full((n + 1,), -1)\n",
        "\n",
        "# Measure the time taken to compute the Fibonacci number\n",
        "start_time = time.time()\n",
        "result = fib(n, memo)\n",
        "end_time = time.time()\n",
        "\n",
        "# Calculate the elapsed time\n",
        "elapsed_time = end_time - start_time\n",
        "\n",
        "# Print the Fibonacci number and the elapsed time\n",
        "print(f\"The {n}th Fibonacci number is: {result}\")\n",
        "print(f\"Time taken to compute: {elapsed_time} seconds\")\n",
        "print(memo)\n"
      ],
      "metadata": {
        "colab": {
          "base_uri": "https://localhost:8080/"
        },
        "id": "QijN1PVHlzd7",
        "outputId": "3dd412f3-3ef8-4ad5-9e55-bbf1b8733cdb"
      },
      "execution_count": null,
      "outputs": [
        {
          "output_type": "stream",
          "name": "stdout",
          "text": [
            "Enter the position of the Fibonacci number you want: 5\n",
            "The 5th Fibonacci number is: 5\n",
            "Time taken to compute: 7.939338684082031e-05 seconds\n",
            "[0 1 1 2 3 5]\n"
          ]
        }
      ]
    },
    {
      "cell_type": "markdown",
      "source": [
        "# **3. Tabulation**"
      ],
      "metadata": {
        "id": "Af7Hah_-r5eC"
      }
    },
    {
      "cell_type": "code",
      "source": [
        "import numpy as np\n",
        "import time\n",
        "\n",
        "# Tabulation method to calculate Fibonacci number\n",
        "def fib_tabulation(n):\n",
        "    if n <= 1:\n",
        "        return n\n",
        "\n",
        "    # Initialize the table to store Fibonacci numbers up to n\n",
        "    table = np.zeros(n + 1, dtype=int)\n",
        "    table[1] = 1\n",
        "\n",
        "    # Build the table iteratively\n",
        "    for i in range(2, n + 1):\n",
        "        table[i] = table[i - 1] + table[i - 2]\n",
        "\n",
        "    return table[n]\n",
        "\n",
        "# Get the number from the user\n",
        "# n = int(input(\"Enter the position of the Fibonacci number you want: \"))\n",
        "n = 35\n",
        "\n",
        "# Measure the time taken to compute the Fibonacci number\n",
        "start_time = time.time()\n",
        "result = fib_tabulation(n)\n",
        "end_time = time.time()\n",
        "\n",
        "# Calculate the elapsed time\n",
        "elapsed_time = end_time - start_time\n",
        "\n",
        "# Print the Fibonacci number and the elapsed time\n",
        "print(f\"The {n}th Fibonacci number is: {result}\")\n",
        "print(f\"Time taken to compute: {elapsed_time} seconds\")\n"
      ],
      "metadata": {
        "colab": {
          "base_uri": "https://localhost:8080/"
        },
        "id": "pN7M5DcKrxna",
        "outputId": "93e039b8-bb85-4911-8483-cd5897827efe"
      },
      "execution_count": null,
      "outputs": [
        {
          "output_type": "stream",
          "name": "stdout",
          "text": [
            "The 35th Fibonacci number is: 9227465\n",
            "Time taken to compute: 0.00013184547424316406 seconds\n"
          ]
        }
      ]
    }
  ]
}