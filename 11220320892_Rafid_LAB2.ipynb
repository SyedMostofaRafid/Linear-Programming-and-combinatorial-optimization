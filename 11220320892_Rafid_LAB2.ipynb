{
 "cells": [
  {
   "cell_type": "markdown",
   "metadata": {
    "id": "Wdr1govbpvB5"
   },
   "source": [
    "Write a code to print your name and ID."
   ]
  },
  {
   "cell_type": "code",
   "execution_count": null,
   "metadata": {
    "colab": {
     "base_uri": "https://localhost:8080/"
    },
    "id": "E2P_AhSXnEKs",
    "outputId": "fcc1d987-3b80-4ae3-8452-7ae776abe666"
   },
   "outputs": [
    {
     "name": "stdout",
     "output_type": "stream",
     "text": [
      "Name: Syed Mostofa Rafid\n",
      "Student ID: 11220320892\n"
     ]
    }
   ],
   "source": [
    "string_variable = \"Syed Mostofa Rafid\"#taking name as string input\n",
    "integer_variable = 11220320892#taking ID as integer input\n",
    "\n",
    "print(\"Name:\", string_variable)#printing the taken string input\n",
    "print(\"Student ID:\", integer_variable)#printing the taken integer input"
   ]
  },
  {
   "cell_type": "markdown",
   "metadata": {
    "id": "L8ho8Lgqp6lg"
   },
   "source": [
    "Write a code to check if the last 3 digits of your ID is greater than 500 then it prints \"My ID is more than 500\" Otherwise the code prints “My ID is not more than 500\""
   ]
  },
  {
   "cell_type": "code",
   "execution_count": 2,
   "metadata": {
    "colab": {
     "base_uri": "https://localhost:8080/"
    },
    "id": "M1R7wL5UoDpw",
    "outputId": "6c21a247-4383-4836-ad94-9e951f5c0014"
   },
   "outputs": [
    {
     "name": "stdout",
     "output_type": "stream",
     "text": [
      "Enter your ID: 892\n",
      "My ID is more than 500\n"
     ]
    }
   ],
   "source": [
    "def compare_variable(integer):\n",
    "    if integer > 500:\n",
    "        print(\"My ID is more than 500\")\n",
    "    elif integer < 500:\n",
    "        print(\"My ID is not more than 500\")\n",
    "    else:\n",
    "        print(\"My ID is equal to 500\")\n",
    "\n",
    "integer = int(input(\"Enter your ID: \"))\n",
    "compare_variable(integer)\n"
   ]
  },
  {
   "cell_type": "markdown",
   "metadata": {
    "id": "2wqdRSMOp_ex"
   },
   "source": [
    "Create 5 different variables and list them in python then print the variables and their types."
   ]
  },
  {
   "cell_type": "code",
   "execution_count": 3,
   "metadata": {
    "colab": {
     "base_uri": "https://localhost:8080/"
    },
    "id": "AQ0q2Ax4oQXD",
    "outputId": "7b6e10b5-54c1-4208-beca-bff449bf5c7f"
   },
   "outputs": [
    {
     "name": "stdout",
     "output_type": "stream",
     "text": [
      "variable no 1: 892, type: <class 'int'>\n",
      "variable no 2: Mostofa Rafid, type: <class 'str'>\n",
      "variable no 3: [1, 2, 3, 4, 5], type: <class 'list'>\n",
      "variable no 4: 3.14, type: <class 'float'>\n",
      "variable no 5: True, type: <class 'bool'>\n"
     ]
    }
   ],
   "source": [
    "var1 = 892\n",
    "var2 = \"Mostofa Rafid\"\n",
    "var3 = [1, 2, 3, 4, 5]\n",
    "var4 = 3.14\n",
    "var5 = True\n",
    "#five types of variables are taken inputs\n",
    "\n",
    "print(f\"variable no 1: {var1}, type: {type(var1)}\")#“type” has been used to define the type of the variable\n",
    "print(f\"variable no 2: {var2}, type: {type(var2)}\")\n",
    "print(f\"variable no 3: {var3}, type: {type(var3)}\")\n",
    "print(f\"variable no 4: {var4}, type: {type(var4)}\")\n",
    "print(f\"variable no 5: {var5}, type: {type(var5)}\")"
   ]
  },
  {
   "cell_type": "markdown",
   "metadata": {
    "id": "W8jqp0RWqDSY"
   },
   "source": [
    "cars = [\"Ford\",\"Volvo\",\"BMW\"] In this list add Honda, delete Volvo using function, and delete Ford using value."
   ]
  },
  {
   "cell_type": "code",
   "execution_count": 4,
   "metadata": {
    "colab": {
     "base_uri": "https://localhost:8080/"
    },
    "id": "19_3lwViobGp",
    "outputId": "1cf4261d-451a-488c-ad96-d15fe0ff39d6"
   },
   "outputs": [
    {
     "name": "stdout",
     "output_type": "stream",
     "text": [
      "Updated list of cars: ['BMW', 'Honda']\n"
     ]
    }
   ],
   "source": [
    "cars = [\"Ford\", \"Volvo\", \"BMW\"] #creating the list of cars\n",
    "\n",
    "cars.append(\"Honda\")#inserting honda in the list\n",
    "\n",
    "def delete_car_by_name(car_list, car_name):#deleting volvo by using function\n",
    "    if car_name in car_list:\n",
    "        car_list.remove(car_name)\n",
    "\n",
    "delete_car_by_name(cars, \"Volvo\")\n",
    "\n",
    "if \"Ford\" in cars:#deleting ford using value\n",
    "    cars.remove(\"Ford\")\n",
    "\n",
    "print(\"Updated list of cars:\", cars)#printing the corrected list"
   ]
  },
  {
   "cell_type": "markdown",
   "metadata": {
    "id": "KeqkJxJ_qGv6"
   },
   "source": [
    "Write a function that can print your name 5 times using a loop (For or While)"
   ]
  },
  {
   "cell_type": "code",
   "execution_count": 5,
   "metadata": {
    "colab": {
     "base_uri": "https://localhost:8080/"
    },
    "id": "EvQAQvyrpHNl",
    "outputId": "49944172-cb2f-4c3f-bb05-41074a0ce6c2"
   },
   "outputs": [
    {
     "name": "stdout",
     "output_type": "stream",
     "text": [
      "Syed Mostofa Rafid\n",
      "Syed Mostofa Rafid\n",
      "Syed Mostofa Rafid\n",
      "Syed Mostofa Rafid\n",
      "Syed Mostofa Rafid\n",
      "Syed Mostofa Rafid\n",
      "Syed Mostofa Rafid\n",
      "Syed Mostofa Rafid\n",
      "Syed Mostofa Rafid\n",
      "Syed Mostofa Rafid\n"
     ]
    }
   ],
   "source": [
    "#using while loop\n",
    "def input(name):\n",
    "    count = 0\n",
    "    while count < 5:\n",
    "        print(name)\n",
    "        count += 1\n",
    "input(\"Syed Mostofa Rafid\")\n",
    "#using for loop\n",
    "def input(name):\n",
    "    for _ in range(5):\n",
    "        print(name)\n",
    "\n",
    "input(\"Syed Mostofa Rafid\")\n"
   ]
  },
  {
   "cell_type": "markdown",
   "metadata": {
    "id": "9FiLPRVUqJmA"
   },
   "source": [
    "Draw a straight line."
   ]
  },
  {
   "cell_type": "code",
   "execution_count": null,
   "metadata": {
    "id": "UadVWEAhpbZS"
   },
   "outputs": [],
   "source": [
    "import turtle#This line imports the turtle module, which provides a simple way to create graphics.\n",
    "\n",
    "line = turtle.Turtle()\n",
    "\n",
    "line.forward(100) #This line moves the turtle forward by 100 units, drawing a straight line.\n",
    "\n",
    "turtle.done()#keeps the graphics window open until it's manually closed by the user. this must be run on a compiler such as VS code"
   ]
  },
  {
   "cell_type": "markdown",
   "metadata": {
    "id": "RyAYTBnjduoP"
   },
   "source": [
    "I've written this code to perform it in graphical manner. So, it is showing error in the second line as the second line refers to the graphical tab/window of python. If you run it on any compiler such as vs code. I'll run perfectly."
   ]
  }
 ],
 "metadata": {
  "colab": {
   "provenance": []
  },
  "kernelspec": {
   "display_name": "Python 3",
   "name": "python3"
  },
  "language_info": {
   "name": "python",
   "version": "3.12.7"
  }
 },
 "nbformat": 4,
 "nbformat_minor": 0
}
